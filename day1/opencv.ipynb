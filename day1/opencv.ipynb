{
 "cells": [
  {
   "cell_type": "code",
   "execution_count": null,
   "id": "e03ea45a",
   "metadata": {},
   "outputs": [],
   "source": [
    "import sys\n",
    "print(sys.executable)\n",
    "%pip install --upgrade pip setuptools wheel\n",
    "%pip install opencv-python"
   ]
  },
  {
   "cell_type": "code",
   "execution_count": 5,
   "id": "6a45874c",
   "metadata": {},
   "outputs": [],
   "source": [
    "import cv2\n",
    "import os\n",
    "import numpy as np"
   ]
  },
  {
   "cell_type": "code",
   "execution_count": 28,
   "id": "bbd393a4",
   "metadata": {},
   "outputs": [
    {
     "data": {
      "text/plain": [
       "-1"
      ]
     },
     "execution_count": 28,
     "metadata": {},
     "output_type": "execute_result"
    }
   ],
   "source": [
    "image = cv2.imread('data/vk.jpg')\n",
    "#read image\n",
    "image_path = os.path.join('.', 'data', 'vk.jpg')\n",
    "img = cv2.imread(image_path)\n",
    "# print(img.shape)\n",
    "\n",
    "#write image\n",
    "cv2.imwrite(os.path.join('.', 'vk_out.jpg'), img)\n",
    "cv2.imshow('image', img)\n",
    "cv2.waitKey(0) #wait forever until we click the key"
   ]
  },
  {
   "cell_type": "code",
   "execution_count": null,
   "id": "2fbe4186",
   "metadata": {},
   "outputs": [],
   "source": [
    "#read and visualize video\n",
    "video_path = os.path.join('.', 'data', 'pby.mp4')\n",
    "video = cv2.VideoCapture(video_path)\n",
    "\n",
    "ret = True\n",
    "while ret:\n",
    "    ret, frame = video.read()\n",
    "    \n",
    "    if ret:\n",
    "        cv2.imshow('frame', frame)\n",
    "        cv2.waitKey(40)\n",
    "video.release()\n",
    "cv2.destroyAllWindows()"
   ]
  },
  {
   "cell_type": "code",
   "execution_count": 7,
   "id": "539cce24",
   "metadata": {},
   "outputs": [],
   "source": [
    "#webcam\n",
    "webcam = cv2.VideoCapture(0)\n",
    "while True:\n",
    "    ret, frame = webcam.read()\n",
    "    \n",
    "    cv2.imshow('frame', frame)\n",
    "    if cv2.waitKey(40) & 0xFF == ord('q'):\n",
    "        break\n",
    "\n",
    "webcam.release()\n",
    "cv2.destroyAllWindows()"
   ]
  },
  {
   "cell_type": "code",
   "execution_count": null,
   "id": "4a55995f",
   "metadata": {},
   "outputs": [
    {
     "name": "stdout",
     "output_type": "stream",
     "text": [
      "(736, 736, 3)\n",
      "(500, 300, 3)\n"
     ]
    }
   ],
   "source": [
    "#resizing\n",
    "img = cv2.imread(os.path.join('.', 'data', 'vk.jpg'))\n",
    "\n",
    "resized_img = cv2.resize(img, (300, 500))\n",
    "\n",
    "print(img.shape)\n",
    "print(resized_img.shape)\n",
    "\n",
    "cv2.imshow('img', img)\n",
    "cv2.imshow('resized', resized_img)\n",
    "cv2.waitKey(0)\n",
    "cv2.destroyAllWindows()"
   ]
  },
  {
   "cell_type": "code",
   "execution_count": null,
   "id": "390d4c71",
   "metadata": {},
   "outputs": [
    {
     "name": "stdout",
     "output_type": "stream",
     "text": [
      "(980, 736, 3)\n"
     ]
    }
   ],
   "source": [
    "#cropping\n",
    "img = cv2.imread(os.path.join('.', 'data', 'khw.jpg'))\n",
    "\n",
    "print(img.shape)\n",
    "\n",
    "cropped_img = img[:700, :]\n",
    "\n",
    "cv2.imshow('img', img)\n",
    "cv2.imshow('cropped', cropped_img)\n",
    "cv2.waitKey(0)\n",
    "cv2.destroyAllWindows()"
   ]
  },
  {
   "cell_type": "code",
   "execution_count": 5,
   "id": "bc008724",
   "metadata": {},
   "outputs": [
    {
     "data": {
      "text/plain": [
       "-1"
      ]
     },
     "execution_count": 5,
     "metadata": {},
     "output_type": "execute_result"
    }
   ],
   "source": [
    "#color space\n",
    "img = cv2.imread(os.path.join('.', 'data', 'khw.jpg'))\n",
    "\n",
    "img_gray = cv2.cvtColor(img, cv2.COLOR_BGR2GRAY)\n",
    "img_rgb = cv2.cvtColor(img, cv2.COLOR_BGR2RGB)\n",
    "img_hsv = cv2.cvtColor(img, cv2.COLOR_BGR2HSV)\n",
    "\n",
    "# cv2.imshow('img', img)\n",
    "# cv2.imshow('img_gray', img_gray)\n",
    "# cv2.imshow('img_rgb', img_rgb)\n",
    "cv2.imshow('img_hsv', img_hsv)\n",
    "cv2.waitKey(0)"
   ]
  },
  {
   "cell_type": "code",
   "execution_count": 11,
   "id": "0216db98",
   "metadata": {},
   "outputs": [
    {
     "data": {
      "text/plain": [
       "-1"
      ]
     },
     "execution_count": 11,
     "metadata": {},
     "output_type": "execute_result"
    }
   ],
   "source": [
    "#blurring\n",
    "img = cv2.imread(os.path.join('.', 'data', 'khw.jpg'))\n",
    "\n",
    "k_size = 15\n",
    "img_blur = cv2.blur(img, (k_size, k_size))\n",
    "img_gauss_blur = cv2.GaussianBlur(img, (k_size, k_size), 3)\n",
    "img_median_blur = cv2.medianBlur(img, k_size)\n",
    "\n",
    "cv2.imshow('img', img)\n",
    "# cv2.imshow('img_blur', img_blur)\n",
    "# cv2.imshow('img_gauss_blur', img_gauss_blur)\n",
    "cv2.imshow('img_median_blur', img_median_blur)\n",
    "cv2.waitKey(0)"
   ]
  },
  {
   "cell_type": "code",
   "execution_count": 19,
   "id": "4b263601",
   "metadata": {},
   "outputs": [
    {
     "data": {
      "text/plain": [
       "-1"
      ]
     },
     "execution_count": 19,
     "metadata": {},
     "output_type": "execute_result"
    }
   ],
   "source": [
    "#threshold\n",
    "img = cv2.imread(os.path.join('.', 'data', 'handwritten.png'))\n",
    "\n",
    "img_gray = cv2.cvtColor(img, cv2.COLOR_BGR2GRAY)\n",
    "\n",
    "# ret, thresh = cv2.threshold(img_gray, 125, 255, cv2.THRESH_BINARY)\n",
    "\n",
    "thresh = cv2.adaptiveThreshold(img_gray, 255, cv2.ADAPTIVE_THRESH_GAUSSIAN_C, cv2.THRESH_BINARY, 21, 30)\n",
    "\n",
    "cv2.imshow('img_gray', img_gray)\n",
    "cv2.imshow('thresh', thresh)\n",
    "cv2.waitKey(0)"
   ]
  },
  {
   "cell_type": "code",
   "execution_count": 7,
   "id": "895f9666",
   "metadata": {},
   "outputs": [
    {
     "data": {
      "text/plain": [
       "-1"
      ]
     },
     "execution_count": 7,
     "metadata": {},
     "output_type": "execute_result"
    }
   ],
   "source": [
    "#edge detection\n",
    "img = cv2.imread(os.path.join('.', 'data', 'vk.jpg'))\n",
    "\n",
    "img_edge = cv2.Canny(img, 100, 200)\n",
    "\n",
    "img_d = cv2.dilate(img_edge, np.ones((5, 5), dtype=np.int8))\n",
    "\n",
    "img_e = cv2.erode(img_d, np.ones((5, 5), dtype=np.int8))\n",
    "\n",
    "# cv2.imshow('img', img)\n",
    "# cv2.imshow('img_edge', img_edge)\n",
    "cv2.imshow('img_d', img_d)\n",
    "cv2.imshow('img_e', img_e)\n",
    "cv2.waitKey(0)"
   ]
  },
  {
   "cell_type": "code",
   "execution_count": null,
   "id": "77fdd29d",
   "metadata": {},
   "outputs": [],
   "source": []
  }
 ],
 "metadata": {
  "kernelspec": {
   "display_name": "base",
   "language": "python",
   "name": "python3"
  },
  "language_info": {
   "codemirror_mode": {
    "name": "ipython",
    "version": 3
   },
   "file_extension": ".py",
   "mimetype": "text/x-python",
   "name": "python",
   "nbconvert_exporter": "python",
   "pygments_lexer": "ipython3",
   "version": "3.12.4"
  }
 },
 "nbformat": 4,
 "nbformat_minor": 5
}
